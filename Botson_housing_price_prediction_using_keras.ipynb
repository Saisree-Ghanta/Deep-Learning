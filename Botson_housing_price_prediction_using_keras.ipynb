{
  "nbformat": 4,
  "nbformat_minor": 0,
  "metadata": {
    "colab": {
      "name": "Botson_housing_price_prediction using keras",
      "provenance": []
    },
    "kernelspec": {
      "name": "python3",
      "display_name": "Python 3"
    }
  },
  "cells": [
    {
      "cell_type": "code",
      "metadata": {
        "id": "0S6Kyhu0QRrX",
        "colab_type": "code",
        "colab": {}
      },
      "source": [
        "import tensorflow as tf"
      ],
      "execution_count": 0,
      "outputs": []
    },
    {
      "cell_type": "code",
      "metadata": {
        "id": "1WcitGrxQaP4",
        "colab_type": "code",
        "colab": {}
      },
      "source": [
        "from sklearn.preprocessing import Normalizer"
      ],
      "execution_count": 0,
      "outputs": []
    },
    {
      "cell_type": "code",
      "metadata": {
        "id": "M95uDoaJQjLd",
        "colab_type": "code",
        "colab": {}
      },
      "source": [
        "(train_x,train_y),(_,_)=tf.keras.datasets.boston_housing.load_data(test_split=0)"
      ],
      "execution_count": 0,
      "outputs": []
    },
    {
      "cell_type": "code",
      "metadata": {
        "id": "VCcgrMq-RgT8",
        "colab_type": "code",
        "colab": {}
      },
      "source": [
        "train_x=train_x.astype('float32')\n",
        "train_y=train_y.astype('float32')"
      ],
      "execution_count": 0,
      "outputs": []
    },
    {
      "cell_type": "code",
      "metadata": {
        "id": "RFscpeIqXtXJ",
        "colab_type": "code",
        "colab": {}
      },
      "source": [
        "transformer=Normalizer()\n",
        "train_x=transformer.fit_transform(train_x)"
      ],
      "execution_count": 0,
      "outputs": []
    },
    {
      "cell_type": "markdown",
      "metadata": {
        "id": "vLxgiUERSArc",
        "colab_type": "text"
      },
      "source": [
        "*Building the graph in Keras*"
      ]
    },
    {
      "cell_type": "code",
      "metadata": {
        "id": "ASpw3ICeR3fe",
        "colab_type": "code",
        "colab": {}
      },
      "source": [
        "# Initialize Sequential model\n",
        "model=tf.keras.Sequential()\n",
        "# Add dene layer for prediction-keras declares weights and bias automatically\n",
        "model.add(tf.keras.layers.Dense(1,input_shape=(13,)))\n",
        "#compile the model -Add loss and Gradient Decent optimizer \n",
        "model.compile(optimizer='sgd',loss='mse')"
      ],
      "execution_count": 0,
      "outputs": []
    },
    {
      "cell_type": "markdown",
      "metadata": {
        "id": "bGtieTPaUCmA",
        "colab_type": "text"
      },
      "source": [
        "Execute the graph"
      ]
    },
    {
      "cell_type": "code",
      "metadata": {
        "id": "1YysZJkUT9S-",
        "colab_type": "code",
        "outputId": "d13cbc8e-58dc-4c66-bea9-e385154b0b91",
        "colab": {
          "base_uri": "https://localhost:8080/",
          "height": 1000
        }
      },
      "source": [
        "model.fit(train_x,train_y,epochs=100)"
      ],
      "execution_count": 0,
      "outputs": [
        {
          "output_type": "stream",
          "text": [
            "Epoch 1/100\n",
            "16/16 [==============================] - 0s 1ms/step - loss: 63.9215\n",
            "Epoch 2/100\n",
            "16/16 [==============================] - 0s 1ms/step - loss: 63.9234\n",
            "Epoch 3/100\n",
            "16/16 [==============================] - 0s 1ms/step - loss: 63.9055\n",
            "Epoch 4/100\n",
            "16/16 [==============================] - 0s 1ms/step - loss: 63.9003\n",
            "Epoch 5/100\n",
            "16/16 [==============================] - 0s 1ms/step - loss: 63.8789\n",
            "Epoch 6/100\n",
            "16/16 [==============================] - 0s 1ms/step - loss: 63.8128\n",
            "Epoch 7/100\n",
            "16/16 [==============================] - 0s 1ms/step - loss: 63.8325\n",
            "Epoch 8/100\n",
            "16/16 [==============================] - 0s 1ms/step - loss: 63.8202\n",
            "Epoch 9/100\n",
            "16/16 [==============================] - 0s 1ms/step - loss: 63.8066\n",
            "Epoch 10/100\n",
            "16/16 [==============================] - 0s 1ms/step - loss: 63.7938\n",
            "Epoch 11/100\n",
            "16/16 [==============================] - 0s 1ms/step - loss: 63.8022\n",
            "Epoch 12/100\n",
            "16/16 [==============================] - 0s 1ms/step - loss: 63.7428\n",
            "Epoch 13/100\n",
            "16/16 [==============================] - 0s 1ms/step - loss: 63.6922\n",
            "Epoch 14/100\n",
            "16/16 [==============================] - 0s 1ms/step - loss: 63.7026\n",
            "Epoch 15/100\n",
            "16/16 [==============================] - 0s 1ms/step - loss: 63.6967\n",
            "Epoch 16/100\n",
            "16/16 [==============================] - 0s 1ms/step - loss: 63.6989\n",
            "Epoch 17/100\n",
            "16/16 [==============================] - 0s 1ms/step - loss: 63.6579\n",
            "Epoch 18/100\n",
            "16/16 [==============================] - 0s 1ms/step - loss: 63.6495\n",
            "Epoch 19/100\n",
            "16/16 [==============================] - 0s 1ms/step - loss: 63.6647\n",
            "Epoch 20/100\n",
            "16/16 [==============================] - 0s 1ms/step - loss: 63.6076\n",
            "Epoch 21/100\n",
            "16/16 [==============================] - 0s 1ms/step - loss: 63.6892\n",
            "Epoch 22/100\n",
            "16/16 [==============================] - 0s 1ms/step - loss: 63.6356\n",
            "Epoch 23/100\n",
            "16/16 [==============================] - 0s 1ms/step - loss: 63.5567\n",
            "Epoch 24/100\n",
            "16/16 [==============================] - 0s 1ms/step - loss: 63.5820\n",
            "Epoch 25/100\n",
            "16/16 [==============================] - 0s 1ms/step - loss: 63.5797\n",
            "Epoch 26/100\n",
            "16/16 [==============================] - 0s 1ms/step - loss: 63.5710\n",
            "Epoch 27/100\n",
            "16/16 [==============================] - 0s 1ms/step - loss: 63.5835\n",
            "Epoch 28/100\n",
            "16/16 [==============================] - 0s 1ms/step - loss: 63.5244\n",
            "Epoch 29/100\n",
            "16/16 [==============================] - 0s 1ms/step - loss: 63.4882\n",
            "Epoch 30/100\n",
            "16/16 [==============================] - 0s 1ms/step - loss: 63.4893\n",
            "Epoch 31/100\n",
            "16/16 [==============================] - 0s 1ms/step - loss: 63.4859\n",
            "Epoch 32/100\n",
            "16/16 [==============================] - 0s 1ms/step - loss: 63.4816\n",
            "Epoch 33/100\n",
            "16/16 [==============================] - 0s 1ms/step - loss: 63.4669\n",
            "Epoch 34/100\n",
            "16/16 [==============================] - 0s 1ms/step - loss: 63.4036\n",
            "Epoch 35/100\n",
            "16/16 [==============================] - 0s 1ms/step - loss: 63.4085\n",
            "Epoch 36/100\n",
            "16/16 [==============================] - 0s 1ms/step - loss: 63.4231\n",
            "Epoch 37/100\n",
            "16/16 [==============================] - 0s 1ms/step - loss: 63.3844\n",
            "Epoch 38/100\n",
            "16/16 [==============================] - 0s 1ms/step - loss: 63.3998\n",
            "Epoch 39/100\n",
            "16/16 [==============================] - 0s 1ms/step - loss: 63.3633\n",
            "Epoch 40/100\n",
            "16/16 [==============================] - 0s 1ms/step - loss: 63.4395\n",
            "Epoch 41/100\n",
            "16/16 [==============================] - 0s 1ms/step - loss: 63.3728\n",
            "Epoch 42/100\n",
            "16/16 [==============================] - 0s 1ms/step - loss: 63.3426\n",
            "Epoch 43/100\n",
            "16/16 [==============================] - 0s 1ms/step - loss: 63.3606\n",
            "Epoch 44/100\n",
            "16/16 [==============================] - 0s 1ms/step - loss: 63.3560\n",
            "Epoch 45/100\n",
            "16/16 [==============================] - 0s 1ms/step - loss: 63.3442\n",
            "Epoch 46/100\n",
            "16/16 [==============================] - 0s 1ms/step - loss: 63.3220\n",
            "Epoch 47/100\n",
            "16/16 [==============================] - 0s 1ms/step - loss: 63.3109\n",
            "Epoch 48/100\n",
            "16/16 [==============================] - 0s 1ms/step - loss: 63.2964\n",
            "Epoch 49/100\n",
            "16/16 [==============================] - 0s 1ms/step - loss: 63.2750\n",
            "Epoch 50/100\n",
            "16/16 [==============================] - 0s 1ms/step - loss: 63.2541\n",
            "Epoch 51/100\n",
            "16/16 [==============================] - 0s 1ms/step - loss: 63.2565\n",
            "Epoch 52/100\n",
            "16/16 [==============================] - 0s 1ms/step - loss: 63.2356\n",
            "Epoch 53/100\n",
            "16/16 [==============================] - 0s 1ms/step - loss: 63.2529\n",
            "Epoch 54/100\n",
            "16/16 [==============================] - 0s 1ms/step - loss: 63.2615\n",
            "Epoch 55/100\n",
            "16/16 [==============================] - 0s 1ms/step - loss: 63.2651\n",
            "Epoch 56/100\n",
            "16/16 [==============================] - 0s 1ms/step - loss: 63.2033\n",
            "Epoch 57/100\n",
            "16/16 [==============================] - 0s 1ms/step - loss: 63.1715\n",
            "Epoch 58/100\n",
            "16/16 [==============================] - 0s 2ms/step - loss: 63.2065\n",
            "Epoch 59/100\n",
            "16/16 [==============================] - 0s 1ms/step - loss: 63.2009\n",
            "Epoch 60/100\n",
            "16/16 [==============================] - 0s 1ms/step - loss: 63.1740\n",
            "Epoch 61/100\n",
            "16/16 [==============================] - 0s 1ms/step - loss: 63.1807\n",
            "Epoch 62/100\n",
            "16/16 [==============================] - 0s 1ms/step - loss: 63.1356\n",
            "Epoch 63/100\n",
            "16/16 [==============================] - 0s 1ms/step - loss: 63.1737\n",
            "Epoch 64/100\n",
            "16/16 [==============================] - 0s 1ms/step - loss: 63.1519\n",
            "Epoch 65/100\n",
            "16/16 [==============================] - 0s 1ms/step - loss: 63.1372\n",
            "Epoch 66/100\n",
            "16/16 [==============================] - 0s 1ms/step - loss: 63.1272\n",
            "Epoch 67/100\n",
            "16/16 [==============================] - 0s 1ms/step - loss: 63.1310\n",
            "Epoch 68/100\n",
            "16/16 [==============================] - 0s 1ms/step - loss: 63.1344\n",
            "Epoch 69/100\n",
            "16/16 [==============================] - 0s 1ms/step - loss: 63.0911\n",
            "Epoch 70/100\n",
            "16/16 [==============================] - 0s 1ms/step - loss: 63.0792\n",
            "Epoch 71/100\n",
            "16/16 [==============================] - 0s 1ms/step - loss: 63.1180\n",
            "Epoch 72/100\n",
            "16/16 [==============================] - 0s 1ms/step - loss: 63.1400\n",
            "Epoch 73/100\n",
            "16/16 [==============================] - 0s 1ms/step - loss: 63.0601\n",
            "Epoch 74/100\n",
            "16/16 [==============================] - 0s 1ms/step - loss: 63.0546\n",
            "Epoch 75/100\n",
            "16/16 [==============================] - 0s 1ms/step - loss: 63.0534\n",
            "Epoch 76/100\n",
            "16/16 [==============================] - 0s 1ms/step - loss: 63.0696\n",
            "Epoch 77/100\n",
            "16/16 [==============================] - 0s 1ms/step - loss: 63.0132\n",
            "Epoch 78/100\n",
            "16/16 [==============================] - 0s 1ms/step - loss: 63.0329\n",
            "Epoch 79/100\n",
            "16/16 [==============================] - 0s 1ms/step - loss: 63.0033\n",
            "Epoch 80/100\n",
            "16/16 [==============================] - 0s 1ms/step - loss: 63.0250\n",
            "Epoch 81/100\n",
            "16/16 [==============================] - 0s 1ms/step - loss: 63.0186\n",
            "Epoch 82/100\n",
            "16/16 [==============================] - 0s 1ms/step - loss: 62.9809\n",
            "Epoch 83/100\n",
            "16/16 [==============================] - 0s 1ms/step - loss: 63.0203\n",
            "Epoch 84/100\n",
            "16/16 [==============================] - 0s 1ms/step - loss: 63.0155\n",
            "Epoch 85/100\n",
            "16/16 [==============================] - 0s 1ms/step - loss: 63.0373\n",
            "Epoch 86/100\n",
            "16/16 [==============================] - 0s 1ms/step - loss: 62.9757\n",
            "Epoch 87/100\n",
            "16/16 [==============================] - 0s 1ms/step - loss: 62.9667\n",
            "Epoch 88/100\n",
            "16/16 [==============================] - 0s 1ms/step - loss: 62.9438\n",
            "Epoch 89/100\n",
            "16/16 [==============================] - 0s 1ms/step - loss: 62.9622\n",
            "Epoch 90/100\n",
            "16/16 [==============================] - 0s 1ms/step - loss: 62.9232\n",
            "Epoch 91/100\n",
            "16/16 [==============================] - 0s 1ms/step - loss: 62.9258\n",
            "Epoch 92/100\n",
            "16/16 [==============================] - 0s 1ms/step - loss: 62.9699\n",
            "Epoch 93/100\n",
            "16/16 [==============================] - 0s 1ms/step - loss: 62.9244\n",
            "Epoch 94/100\n",
            "16/16 [==============================] - 0s 1ms/step - loss: 62.9186\n",
            "Epoch 95/100\n",
            "16/16 [==============================] - 0s 1ms/step - loss: 62.8932\n",
            "Epoch 96/100\n",
            "16/16 [==============================] - 0s 1ms/step - loss: 62.9011\n",
            "Epoch 97/100\n",
            "16/16 [==============================] - 0s 1ms/step - loss: 62.9261\n",
            "Epoch 98/100\n",
            "16/16 [==============================] - 0s 1ms/step - loss: 62.8850\n",
            "Epoch 99/100\n",
            "16/16 [==============================] - 0s 1ms/step - loss: 62.8942\n",
            "Epoch 100/100\n",
            "16/16 [==============================] - 0s 1ms/step - loss: 62.8387\n"
          ],
          "name": "stdout"
        },
        {
          "output_type": "execute_result",
          "data": {
            "text/plain": [
              "<tensorflow.python.keras.callbacks.History at 0x7f97bf8ac6a0>"
            ]
          },
          "metadata": {
            "tags": []
          },
          "execution_count": 27
        }
      ]
    },
    {
      "cell_type": "code",
      "metadata": {
        "id": "9xxTmuDFUfVJ",
        "colab_type": "code",
        "outputId": "aedd1d49-988d-491b-eebc-2c16942a41be",
        "colab": {
          "base_uri": "https://localhost:8080/",
          "height": 187
        }
      },
      "source": [
        "model.summary()"
      ],
      "execution_count": 0,
      "outputs": [
        {
          "output_type": "stream",
          "text": [
            "Model: \"sequential_3\"\n",
            "_________________________________________________________________\n",
            "Layer (type)                 Output Shape              Param #   \n",
            "=================================================================\n",
            "dense_3 (Dense)              (None, 1)                 14        \n",
            "=================================================================\n",
            "Total params: 14\n",
            "Trainable params: 14\n",
            "Non-trainable params: 0\n",
            "_________________________________________________________________\n"
          ],
          "name": "stdout"
        }
      ]
    },
    {
      "cell_type": "code",
      "metadata": {
        "id": "PVxXRuyIZnmu",
        "colab_type": "code",
        "outputId": "554bef77-7378-4137-8e8b-d50b108e7506",
        "colab": {
          "base_uri": "https://localhost:8080/",
          "height": 238
        }
      },
      "source": [
        "model.get_weights()"
      ],
      "execution_count": 0,
      "outputs": [
        {
          "output_type": "execute_result",
          "data": {
            "text/plain": [
              "[array([[-1.0667804 ],\n",
              "        [ 6.5292764 ],\n",
              "        [-1.2596972 ],\n",
              "        [-0.16642353],\n",
              "        [ 0.5853072 ],\n",
              "        [ 1.2660621 ],\n",
              "        [-2.4844277 ],\n",
              "        [-0.29401684],\n",
              "        [ 0.2562575 ],\n",
              "        [-2.9105778 ],\n",
              "        [-0.18776144],\n",
              "        [18.831657  ],\n",
              "        [-3.262497  ]], dtype=float32), array([12.345704], dtype=float32)]"
            ]
          },
          "metadata": {
            "tags": []
          },
          "execution_count": 29
        }
      ]
    }
  ]
}